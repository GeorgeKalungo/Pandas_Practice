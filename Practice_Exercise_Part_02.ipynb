{
 "cells": [
  {
   "cell_type": "markdown",
   "id": "777b69ec",
   "metadata": {},
   "source": [
    "#### Exercise_Part_02: Data Indexing & Selection"
   ]
  },
  {
   "cell_type": "markdown",
   "id": "3362580e",
   "metadata": {},
   "source": [
    "##### *Exercise_01*\n",
    "- _1. For the data given below, construct the DataFrame object._\n",
    "- _2. Get the first 4 rows of the DataFrame using the indexing method._"
   ]
  },
  {
   "cell_type": "code",
   "execution_count": 125,
   "id": "10d7153f",
   "metadata": {},
   "outputs": [],
   "source": [
    "import pandas as pd\n",
    "import numpy as np"
   ]
  },
  {
   "cell_type": "code",
   "execution_count": 126,
   "id": "99b8fb22",
   "metadata": {},
   "outputs": [],
   "source": [
    "exam_data = {\n",
    "    'name': ['Anjum', 'Anali', 'Souria', 'Rockea', 'Imani', 'Mouliya', 'Julie', 'Rana', 'Kavin', 'Bosia'],\n",
    "    'score': [15.5, 9, 16.5, np.nan, 9, 30, 17.5, np.nan, 8, 20],\n",
    "    'attempts': [1, 3, 2, 3, 2, 3, 1, 1, 2, 1],\n",
    "    'qualify': ['yes', 'no', 'yes', 'no', 'no', 'yes', 'yes', 'no', 'no', 'yes']\n",
    "}\n",
    "\n",
    "labels = ['A', 'B', 'C', 'D', 'E', 'F', 'G', 'H', 'I', 'J']\n"
   ]
  },
  {
   "cell_type": "code",
   "execution_count": 127,
   "id": "c9c474a8",
   "metadata": {},
   "outputs": [
    {
     "data": {
      "text/html": [
       "<div>\n",
       "<style scoped>\n",
       "    .dataframe tbody tr th:only-of-type {\n",
       "        vertical-align: middle;\n",
       "    }\n",
       "\n",
       "    .dataframe tbody tr th {\n",
       "        vertical-align: top;\n",
       "    }\n",
       "\n",
       "    .dataframe thead th {\n",
       "        text-align: right;\n",
       "    }\n",
       "</style>\n",
       "<table border=\"1\" class=\"dataframe\">\n",
       "  <thead>\n",
       "    <tr style=\"text-align: right;\">\n",
       "      <th></th>\n",
       "      <th>name</th>\n",
       "      <th>score</th>\n",
       "      <th>attempts</th>\n",
       "      <th>qualify</th>\n",
       "    </tr>\n",
       "  </thead>\n",
       "  <tbody>\n",
       "    <tr>\n",
       "      <th>A</th>\n",
       "      <td>Anjum</td>\n",
       "      <td>15.5</td>\n",
       "      <td>1</td>\n",
       "      <td>yes</td>\n",
       "    </tr>\n",
       "    <tr>\n",
       "      <th>B</th>\n",
       "      <td>Anali</td>\n",
       "      <td>9.0</td>\n",
       "      <td>3</td>\n",
       "      <td>no</td>\n",
       "    </tr>\n",
       "    <tr>\n",
       "      <th>C</th>\n",
       "      <td>Souria</td>\n",
       "      <td>16.5</td>\n",
       "      <td>2</td>\n",
       "      <td>yes</td>\n",
       "    </tr>\n",
       "    <tr>\n",
       "      <th>D</th>\n",
       "      <td>Rockea</td>\n",
       "      <td>NaN</td>\n",
       "      <td>3</td>\n",
       "      <td>no</td>\n",
       "    </tr>\n",
       "    <tr>\n",
       "      <th>E</th>\n",
       "      <td>Imani</td>\n",
       "      <td>9.0</td>\n",
       "      <td>2</td>\n",
       "      <td>no</td>\n",
       "    </tr>\n",
       "    <tr>\n",
       "      <th>F</th>\n",
       "      <td>Mouliya</td>\n",
       "      <td>30.0</td>\n",
       "      <td>3</td>\n",
       "      <td>yes</td>\n",
       "    </tr>\n",
       "    <tr>\n",
       "      <th>G</th>\n",
       "      <td>Julie</td>\n",
       "      <td>17.5</td>\n",
       "      <td>1</td>\n",
       "      <td>yes</td>\n",
       "    </tr>\n",
       "    <tr>\n",
       "      <th>H</th>\n",
       "      <td>Rana</td>\n",
       "      <td>NaN</td>\n",
       "      <td>1</td>\n",
       "      <td>no</td>\n",
       "    </tr>\n",
       "    <tr>\n",
       "      <th>I</th>\n",
       "      <td>Kavin</td>\n",
       "      <td>8.0</td>\n",
       "      <td>2</td>\n",
       "      <td>no</td>\n",
       "    </tr>\n",
       "    <tr>\n",
       "      <th>J</th>\n",
       "      <td>Bosia</td>\n",
       "      <td>20.0</td>\n",
       "      <td>1</td>\n",
       "      <td>yes</td>\n",
       "    </tr>\n",
       "  </tbody>\n",
       "</table>\n",
       "</div>"
      ],
      "text/plain": [
       "      name  score  attempts qualify\n",
       "A    Anjum   15.5         1     yes\n",
       "B    Anali    9.0         3      no\n",
       "C   Souria   16.5         2     yes\n",
       "D   Rockea    NaN         3      no\n",
       "E    Imani    9.0         2      no\n",
       "F  Mouliya   30.0         3     yes\n",
       "G    Julie   17.5         1     yes\n",
       "H     Rana    NaN         1      no\n",
       "I    Kavin    8.0         2      no\n",
       "J    Bosia   20.0         1     yes"
      ]
     },
     "execution_count": 127,
     "metadata": {},
     "output_type": "execute_result"
    }
   ],
   "source": [
    "# DataFrame\n",
    "exam_df = pd.DataFrame(exam_data, index= labels)\n",
    "exam_df"
   ]
  },
  {
   "cell_type": "code",
   "execution_count": 128,
   "id": "2ab59618",
   "metadata": {},
   "outputs": [
    {
     "data": {
      "text/html": [
       "<div>\n",
       "<style scoped>\n",
       "    .dataframe tbody tr th:only-of-type {\n",
       "        vertical-align: middle;\n",
       "    }\n",
       "\n",
       "    .dataframe tbody tr th {\n",
       "        vertical-align: top;\n",
       "    }\n",
       "\n",
       "    .dataframe thead th {\n",
       "        text-align: right;\n",
       "    }\n",
       "</style>\n",
       "<table border=\"1\" class=\"dataframe\">\n",
       "  <thead>\n",
       "    <tr style=\"text-align: right;\">\n",
       "      <th></th>\n",
       "      <th>name</th>\n",
       "      <th>score</th>\n",
       "      <th>attempts</th>\n",
       "      <th>qualify</th>\n",
       "    </tr>\n",
       "  </thead>\n",
       "  <tbody>\n",
       "    <tr>\n",
       "      <th>A</th>\n",
       "      <td>Anjum</td>\n",
       "      <td>15.5</td>\n",
       "      <td>1</td>\n",
       "      <td>yes</td>\n",
       "    </tr>\n",
       "    <tr>\n",
       "      <th>B</th>\n",
       "      <td>Anali</td>\n",
       "      <td>9.0</td>\n",
       "      <td>3</td>\n",
       "      <td>no</td>\n",
       "    </tr>\n",
       "    <tr>\n",
       "      <th>C</th>\n",
       "      <td>Souria</td>\n",
       "      <td>16.5</td>\n",
       "      <td>2</td>\n",
       "      <td>yes</td>\n",
       "    </tr>\n",
       "    <tr>\n",
       "      <th>D</th>\n",
       "      <td>Rockea</td>\n",
       "      <td>NaN</td>\n",
       "      <td>3</td>\n",
       "      <td>no</td>\n",
       "    </tr>\n",
       "  </tbody>\n",
       "</table>\n",
       "</div>"
      ],
      "text/plain": [
       "     name  score  attempts qualify\n",
       "A   Anjum   15.5         1     yes\n",
       "B   Anali    9.0         3      no\n",
       "C  Souria   16.5         2     yes\n",
       "D  Rockea    NaN         3      no"
      ]
     },
     "execution_count": 128,
     "metadata": {},
     "output_type": "execute_result"
    }
   ],
   "source": [
    "# First 4 rows\n",
    "first_4rows = exam_df.loc['A':'D'] # using explicit indexing\n",
    "first_4rows"
   ]
  },
  {
   "cell_type": "code",
   "execution_count": 129,
   "id": "3f9bdae1",
   "metadata": {},
   "outputs": [
    {
     "data": {
      "text/html": [
       "<div>\n",
       "<style scoped>\n",
       "    .dataframe tbody tr th:only-of-type {\n",
       "        vertical-align: middle;\n",
       "    }\n",
       "\n",
       "    .dataframe tbody tr th {\n",
       "        vertical-align: top;\n",
       "    }\n",
       "\n",
       "    .dataframe thead th {\n",
       "        text-align: right;\n",
       "    }\n",
       "</style>\n",
       "<table border=\"1\" class=\"dataframe\">\n",
       "  <thead>\n",
       "    <tr style=\"text-align: right;\">\n",
       "      <th></th>\n",
       "      <th>name</th>\n",
       "      <th>score</th>\n",
       "      <th>attempts</th>\n",
       "      <th>qualify</th>\n",
       "    </tr>\n",
       "  </thead>\n",
       "  <tbody>\n",
       "    <tr>\n",
       "      <th>A</th>\n",
       "      <td>Anjum</td>\n",
       "      <td>15.5</td>\n",
       "      <td>1</td>\n",
       "      <td>yes</td>\n",
       "    </tr>\n",
       "    <tr>\n",
       "      <th>B</th>\n",
       "      <td>Anali</td>\n",
       "      <td>9.0</td>\n",
       "      <td>3</td>\n",
       "      <td>no</td>\n",
       "    </tr>\n",
       "    <tr>\n",
       "      <th>C</th>\n",
       "      <td>Souria</td>\n",
       "      <td>16.5</td>\n",
       "      <td>2</td>\n",
       "      <td>yes</td>\n",
       "    </tr>\n",
       "    <tr>\n",
       "      <th>D</th>\n",
       "      <td>Rockea</td>\n",
       "      <td>NaN</td>\n",
       "      <td>3</td>\n",
       "      <td>no</td>\n",
       "    </tr>\n",
       "  </tbody>\n",
       "</table>\n",
       "</div>"
      ],
      "text/plain": [
       "     name  score  attempts qualify\n",
       "A   Anjum   15.5         1     yes\n",
       "B   Anali    9.0         3      no\n",
       "C  Souria   16.5         2     yes\n",
       "D  Rockea    NaN         3      no"
      ]
     },
     "execution_count": 129,
     "metadata": {},
     "output_type": "execute_result"
    }
   ],
   "source": [
    "first_4_rows = exam_df.iloc[:4] # using implicit indexing\n",
    "first_4_rows"
   ]
  },
  {
   "cell_type": "markdown",
   "id": "5d3e3c6f",
   "metadata": {},
   "source": [
    "##### *Exercise_02*\n",
    "##### _For the DataFrame created in exercise_01:_\n",
    "- _1. Select the columns 'score'and 'attempts' in rows 1, 3, 5, 7._\n",
    "- _2. Count the number of rows and columns without using the shape attribute._\n",
    "- _3. Select the rows where the score is between 16 and 20._\n",
    "- _4. Select the rows where the number of attempts in the examination is less than 2 and score greater than 16._\n"
   ]
  },
  {
   "cell_type": "code",
   "execution_count": 130,
   "id": "3c960664",
   "metadata": {},
   "outputs": [
    {
     "name": "stdout",
     "output_type": "stream",
     "text": [
      "      name  score  attempts qualify\n",
      "A    Anjum   15.5         1     yes\n",
      "B    Anali    9.0         3      no\n",
      "C   Souria   16.5         2     yes\n",
      "D   Rockea    NaN         3      no\n",
      "E    Imani    9.0         2      no\n",
      "F  Mouliya   30.0         3     yes\n",
      "G    Julie   17.5         1     yes\n",
      "H     Rana    NaN         1      no\n",
      "I    Kavin    8.0         2      no\n",
      "J    Bosia   20.0         1     yes\n"
     ]
    }
   ],
   "source": [
    "print(exam_df)"
   ]
  },
  {
   "cell_type": "code",
   "execution_count": 131,
   "id": "bf9f6278",
   "metadata": {},
   "outputs": [
    {
     "data": {
      "text/html": [
       "<div>\n",
       "<style scoped>\n",
       "    .dataframe tbody tr th:only-of-type {\n",
       "        vertical-align: middle;\n",
       "    }\n",
       "\n",
       "    .dataframe tbody tr th {\n",
       "        vertical-align: top;\n",
       "    }\n",
       "\n",
       "    .dataframe thead th {\n",
       "        text-align: right;\n",
       "    }\n",
       "</style>\n",
       "<table border=\"1\" class=\"dataframe\">\n",
       "  <thead>\n",
       "    <tr style=\"text-align: right;\">\n",
       "      <th></th>\n",
       "      <th>score</th>\n",
       "      <th>attempts</th>\n",
       "    </tr>\n",
       "  </thead>\n",
       "  <tbody>\n",
       "    <tr>\n",
       "      <th>B</th>\n",
       "      <td>9.0</td>\n",
       "      <td>3</td>\n",
       "    </tr>\n",
       "    <tr>\n",
       "      <th>D</th>\n",
       "      <td>NaN</td>\n",
       "      <td>3</td>\n",
       "    </tr>\n",
       "    <tr>\n",
       "      <th>F</th>\n",
       "      <td>30.0</td>\n",
       "      <td>3</td>\n",
       "    </tr>\n",
       "    <tr>\n",
       "      <th>H</th>\n",
       "      <td>NaN</td>\n",
       "      <td>1</td>\n",
       "    </tr>\n",
       "  </tbody>\n",
       "</table>\n",
       "</div>"
      ],
      "text/plain": [
       "   score  attempts\n",
       "B    9.0         3\n",
       "D    NaN         3\n",
       "F   30.0         3\n",
       "H    NaN         1"
      ]
     },
     "execution_count": 131,
     "metadata": {},
     "output_type": "execute_result"
    }
   ],
   "source": [
    "# score & attempts columns in rows 1, 3, 5, 7\n",
    "# df2 = exam_df.iloc[1:8:2][['score', 'attempts']]\n",
    "df2 = exam_df.iloc[[1, 3, 5, 7], [1, 2]]\n",
    "df2"
   ]
  },
  {
   "cell_type": "code",
   "execution_count": 132,
   "id": "d7e9d94e",
   "metadata": {},
   "outputs": [
    {
     "name": "stdout",
     "output_type": "stream",
     "text": [
      "rows: 10, cols: 4\n"
     ]
    }
   ],
   "source": [
    "# no.of rows & columns without the shape attribute\n",
    "\n",
    "# no_of_rows = len(exam_df.index)\n",
    "# no_of_columns = len(exam_df.columns)\n",
    "\n",
    "no_of_rows = len(exam_df.axes[0])\n",
    "no_of_columns = len(exam_df.axes[1])\n",
    "print(f'rows: {no_of_rows}, cols: {no_of_columns}')\n"
   ]
  },
  {
   "cell_type": "code",
   "execution_count": 133,
   "id": "fb3766a6",
   "metadata": {},
   "outputs": [
    {
     "name": "stdout",
     "output_type": "stream",
     "text": [
      "     name  score  attempts qualify\n",
      "C  Souria   16.5         2     yes\n",
      "G   Julie   17.5         1     yes\n",
      "J   Bosia   20.0         1     yes\n"
     ]
    }
   ],
   "source": [
    "# rows where the score is btn 16 & 20\n",
    "# condition = (exam_df['score'] >= 16) & (exam_df['score'] <= 20)\n",
    "\n",
    "selection = exam_df['score'].between(16, 20)\n",
    "print(exam_df[selection])\n"
   ]
  },
  {
   "cell_type": "code",
   "execution_count": 134,
   "id": "af7c1fc4",
   "metadata": {},
   "outputs": [
    {
     "name": "stdout",
     "output_type": "stream",
     "text": [
      "    name  score  attempts qualify\n",
      "G  Julie   17.5         1     yes\n",
      "J  Bosia   20.0         1     yes\n"
     ]
    }
   ],
   "source": [
    "# rows where the no.of attempts is less than 2 and score greater than 16\n",
    "filter_condition = (exam_df['attempts'] < 2) & (exam_df['score'] > 16)\n",
    "print(exam_df[filter_condition])"
   ]
  },
  {
   "cell_type": "markdown",
   "id": "7bfe39c6",
   "metadata": {},
   "source": [
    "##### *Exercise_03*\n",
    "##### _For the DataFrame created in exercise_01:_\n",
    "- _1. Change the score of rows 'C' and 'I' to 16._\n",
    "- _2. Calculate the sum of the examination attempts by the students._\n",
    "- _3. Add a new row with the details: name : Rupai, score: 16, attempts : 2, qualfify: yes, label : L. After adding the new row, display it and then remove it to maintain the original dataframe._\n",
    "- _4. Remove the last 4 rows and save it as a new dataframe._\n",
    "\n"
   ]
  },
  {
   "cell_type": "code",
   "execution_count": 142,
   "id": "5fb2b7d4",
   "metadata": {},
   "outputs": [
    {
     "name": "stdout",
     "output_type": "stream",
     "text": [
      "      name  score  attempts qualify\n",
      "A    Anjum   15.5         1     yes\n",
      "B    Anali    9.0         3      no\n",
      "C   Souria   16.0         2     yes\n",
      "D   Rockea    NaN         3      no\n",
      "E    Imani    9.0         2      no\n",
      "F  Mouliya   30.0         3     yes\n",
      "G    Julie   17.5         1     yes\n",
      "H     Rana    NaN         1      no\n",
      "I    Kavin   16.0         2      no\n",
      "J    Bosia   20.0         1     yes\n"
     ]
    }
   ],
   "source": [
    "# scores of row C and I to 16\n",
    "exam_df.loc[['C', 'I'], 'score'] = 16\n",
    "print(exam_df)\n"
   ]
  },
  {
   "cell_type": "code",
   "execution_count": 136,
   "id": "cf093dd2",
   "metadata": {},
   "outputs": [
    {
     "name": "stdout",
     "output_type": "stream",
     "text": [
      "Total attempts: 19\n"
     ]
    }
   ],
   "source": [
    "# sum of examination attempts by students\n",
    "sum_attempts = exam_df['attempts'].sum()\n",
    "print('Total attempts:', sum_attempts)"
   ]
  },
  {
   "cell_type": "code",
   "execution_count": null,
   "id": "0b93c82a",
   "metadata": {},
   "outputs": [
    {
     "name": "stdout",
     "output_type": "stream",
     "text": [
      "      name score  attempts qualify\n",
      "A    Anjum  15.5         1     yes\n",
      "B    Anali   9.0         3      no\n",
      "C   Souria  16.0         2     yes\n",
      "D   Rockea   NaN         3      no\n",
      "E    Imani   9.0         2      no\n",
      "F  Mouliya  30.0         3     yes\n",
      "G    Julie  17.5         1     yes\n",
      "H     Rana   NaN         1      no\n",
      "I    Kavin  16.0         2      no\n",
      "J    Bosia  20.0         1     yes\n",
      "L    Rupai    16         2     yes\n"
     ]
    }
   ],
   "source": [
    "# new row\n",
    "# new_data = {\n",
    "#     'name': 'Rupai', \n",
    "#     'score': 16,\n",
    "#     'attempts': 2,\n",
    "#     'qualify': 'yes'\n",
    "# }\n",
    "\n",
    "# label = ['L']\n",
    "\n",
    "# new_data_df = pd.DataFrame(new_data, index= label)\n",
    "\n",
    "# new_exam_df = pd.concat([exam_df, new_data_df])\n",
    "\n",
    "exam_df.loc['L'] = ['Rupai', '16', 2, 'yes']\n",
    "print(exam_df)"
   ]
  },
  {
   "cell_type": "code",
   "execution_count": null,
   "id": "9da346c9",
   "metadata": {},
   "outputs": [
    {
     "name": "stdout",
     "output_type": "stream",
     "text": [
      "      name score  attempts qualify\n",
      "A    Anjum  15.5         1     yes\n",
      "B    Anali   9.0         3      no\n",
      "C   Souria  16.0         2     yes\n",
      "D   Rockea   NaN         3      no\n",
      "E    Imani   9.0         2      no\n",
      "F  Mouliya  30.0         3     yes\n",
      "G    Julie  17.5         1     yes\n",
      "H     Rana   NaN         1      no\n",
      "I    Kavin  16.0         2      no\n",
      "J    Bosia  20.0         1     yes\n"
     ]
    }
   ],
   "source": [
    "# removing the newly entered row to maintain the original dataframe\n",
    "# exam_df2 = new_exam_df.drop(index= 'L', inplace=True)\n",
    "exam_df2 = exam_df.iloc[:-1, :]\n",
    "\n",
    "print(exam_df2)"
   ]
  },
  {
   "cell_type": "code",
   "execution_count": 139,
   "id": "408d2b47",
   "metadata": {},
   "outputs": [
    {
     "name": "stdout",
     "output_type": "stream",
     "text": [
      "      name  score  attempts qualify\n",
      "A    Anjum   15.5         1     yes\n",
      "B    Anali    9.0         3      no\n",
      "C   Souria   16.0         2     yes\n",
      "D   Rockea    NaN         3      no\n",
      "E    Imani    9.0         2      no\n",
      "F  Mouliya   30.0         3     yes\n"
     ]
    }
   ],
   "source": [
    "# remove the last 4 rows and save it as a new data frame\n",
    "exam_df_new = exam_df.iloc[:-4]\n",
    "print(exam_df_new)"
   ]
  }
 ],
 "metadata": {
  "kernelspec": {
   "display_name": "Python 3",
   "language": "python",
   "name": "python3"
  },
  "language_info": {
   "codemirror_mode": {
    "name": "ipython",
    "version": 3
   },
   "file_extension": ".py",
   "mimetype": "text/x-python",
   "name": "python",
   "nbconvert_exporter": "python",
   "pygments_lexer": "ipython3",
   "version": "3.13.1"
  }
 },
 "nbformat": 4,
 "nbformat_minor": 5
}
