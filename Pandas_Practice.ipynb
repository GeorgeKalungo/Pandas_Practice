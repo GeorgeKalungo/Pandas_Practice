{
 "cells": [
  {
   "cell_type": "markdown",
   "id": "f9ebc199",
   "metadata": {},
   "source": [
    "### Practice_Part_01: Data Structures"
   ]
  },
  {
   "cell_type": "code",
   "execution_count": 148,
   "id": "ca255cd2",
   "metadata": {},
   "outputs": [],
   "source": [
    "import pandas as pd\n",
    "import numpy as np"
   ]
  },
  {
   "cell_type": "markdown",
   "id": "6121bb69",
   "metadata": {},
   "source": [
    "#### Exercise_01\n",
    "_1. Create a Series object using numpy linspace and random.randn functions_"
   ]
  },
  {
   "cell_type": "code",
   "execution_count": 149,
   "id": "f5bd6d5a",
   "metadata": {},
   "outputs": [
    {
     "data": {
      "text/plain": [
       "0     0.000000\n",
       "1     1.111111\n",
       "2     2.222222\n",
       "3     3.333333\n",
       "4     4.444444\n",
       "5     5.555556\n",
       "6     6.666667\n",
       "7     7.777778\n",
       "8     8.888889\n",
       "9    10.000000\n",
       "dtype: float64"
      ]
     },
     "execution_count": 149,
     "metadata": {},
     "output_type": "execute_result"
    }
   ],
   "source": [
    "# numpy linspace function\n",
    "ser_linspace = pd.Series(np.linspace(0, 10, num= 10))\n",
    "ser_linspace"
   ]
  },
  {
   "cell_type": "code",
   "execution_count": 150,
   "id": "da98347b",
   "metadata": {},
   "outputs": [
    {
     "data": {
      "text/plain": [
       "0    0.718989\n",
       "1    0.204468\n",
       "2   -1.113478\n",
       "3   -1.763808\n",
       "4   -0.146606\n",
       "dtype: float64"
      ]
     },
     "execution_count": 150,
     "metadata": {},
     "output_type": "execute_result"
    }
   ],
   "source": [
    "# numpy random.randn function\n",
    "ser_randm = pd.Series(np.random.randn(5))\n",
    "ser_randm"
   ]
  },
  {
   "cell_type": "markdown",
   "id": "68dc24a9",
   "metadata": {},
   "source": [
    "#### Exercise_02\n",
    "_1. Create a Series using a list of elements_\n"
   ]
  },
  {
   "cell_type": "code",
   "execution_count": 151,
   "id": "01a03dc6",
   "metadata": {},
   "outputs": [
    {
     "data": {
      "text/plain": [
       "a     1.0\n",
       "b     3.0\n",
       "c     3.4\n",
       "d     2.0\n",
       "e    10.8\n",
       "dtype: float64"
      ]
     },
     "execution_count": 151,
     "metadata": {},
     "output_type": "execute_result"
    }
   ],
   "source": [
    "# series using a list of integers and floating point numbers\n",
    "list = [1, 3.0, 3.4, 2, 10.8]\n",
    "ser_list = pd.Series(list, index= ['a', 'b', 'c', 'd', 'e'])\n",
    "ser_list"
   ]
  },
  {
   "cell_type": "code",
   "execution_count": 152,
   "id": "a117d9a5",
   "metadata": {},
   "outputs": [
    {
     "data": {
      "text/plain": [
       "0        Peter\n",
       "1        Glenn\n",
       "2          Joe\n",
       "3    cleveland\n",
       "dtype: object"
      ]
     },
     "execution_count": 152,
     "metadata": {},
     "output_type": "execute_result"
    }
   ],
   "source": [
    "# series using a list of string values\n",
    "str_list = ['Peter', 'Glenn', 'Joe', 'cleveland']\n",
    "series_str = pd.Series(str_list)\n",
    "series_str"
   ]
  },
  {
   "cell_type": "markdown",
   "id": "a511a3e8",
   "metadata": {},
   "source": [
    "#### Exercise_03\n",
    "_1. For the data given below, get the index and values after forming a Series object_"
   ]
  },
  {
   "cell_type": "code",
   "execution_count": 153,
   "id": "f289ed81",
   "metadata": {},
   "outputs": [
    {
     "data": {
      "text/plain": [
       "India    New Delhi\n",
       "Japan        Tokyo\n",
       "UK          London\n",
       "dtype: object"
      ]
     },
     "execution_count": 153,
     "metadata": {},
     "output_type": "execute_result"
    }
   ],
   "source": [
    "Data = {'India': 'New Delhi', 'Japan': 'Tokyo', 'UK': 'London'}\n",
    "ser_data = pd.Series(Data)\n",
    "ser_data"
   ]
  },
  {
   "cell_type": "code",
   "execution_count": 154,
   "id": "3bb415ac",
   "metadata": {},
   "outputs": [
    {
     "name": "stdout",
     "output_type": "stream",
     "text": [
      "Indexes: Index(['India', 'Japan', 'UK'], dtype='object')\n",
      "Values: ['New Delhi' 'Tokyo' 'London']\n"
     ]
    }
   ],
   "source": [
    "# indexes & values\n",
    "ind = ser_data.index\n",
    "values = ser_data.values\n",
    "\n",
    "print('Indexes:', ind)\n",
    "print('Values:', values)"
   ]
  },
  {
   "cell_type": "markdown",
   "id": "68eee0e8",
   "metadata": {},
   "source": [
    "#### Exercise_04\n",
    "_Create a Series using a range of 10 values and specify the index explicitly. Use capital letters to index explicitly_"
   ]
  },
  {
   "cell_type": "code",
   "execution_count": 155,
   "id": "1a0110e0",
   "metadata": {},
   "outputs": [
    {
     "data": {
      "text/plain": [
       "A     1\n",
       "B     2\n",
       "C     3\n",
       "D     4\n",
       "E     5\n",
       "F     6\n",
       "G     7\n",
       "H     8\n",
       "I     9\n",
       "K    10\n",
       "dtype: int64"
      ]
     },
     "execution_count": 155,
     "metadata": {},
     "output_type": "execute_result"
    }
   ],
   "source": [
    "ser = pd.Series(range(1, 11), index= ['A', 'B', 'C', 'D', 'E', 'F', 'G', 'H', 'I', 'K'])\n",
    "ser"
   ]
  },
  {
   "cell_type": "markdown",
   "id": "8a5ff733",
   "metadata": {},
   "source": [
    "#### Exercise_05\n",
    "_Find the shape and size for the series created in exercise_04_"
   ]
  },
  {
   "cell_type": "code",
   "execution_count": 156,
   "id": "4f67d4cd",
   "metadata": {},
   "outputs": [
    {
     "name": "stdout",
     "output_type": "stream",
     "text": [
      "Size: 10\n",
      "Shape: (10,)\n"
     ]
    }
   ],
   "source": [
    "size = ser.size\n",
    "shape = ser.shape\n",
    "\n",
    "print('Size:', size)\n",
    "print('Shape:', shape)"
   ]
  },
  {
   "cell_type": "markdown",
   "id": "74934402",
   "metadata": {},
   "source": [
    "#### Exercise_06\n",
    "_Slice the values of the Series created in exercise_04_\n",
    "- _(a) Slice from 4th index up to the end with step size 3_\n",
    "- _(b) Slice the entire series in reverse order_\n",
    "- _(c) Slice the entire series with step size 2_"
   ]
  },
  {
   "cell_type": "code",
   "execution_count": 157,
   "id": "81fe2d20",
   "metadata": {},
   "outputs": [
    {
     "data": {
      "text/plain": [
       "E    5\n",
       "H    8\n",
       "dtype: int64"
      ]
     },
     "execution_count": 157,
     "metadata": {},
     "output_type": "execute_result"
    }
   ],
   "source": [
    "# Slice from 4th index up to the end with step size 3\n",
    "ser.iloc[4::3]"
   ]
  },
  {
   "cell_type": "code",
   "execution_count": 201,
   "id": "2f0a8866",
   "metadata": {},
   "outputs": [
    {
     "data": {
      "text/plain": [
       "K    10\n",
       "I     9\n",
       "H     8\n",
       "G     7\n",
       "F     6\n",
       "E     5\n",
       "D     4\n",
       "C     3\n",
       "B     2\n",
       "A     1\n",
       "dtype: int64"
      ]
     },
     "execution_count": 201,
     "metadata": {},
     "output_type": "execute_result"
    }
   ],
   "source": [
    "# Slice the entire series in reverse order\n",
    "ser.iloc[::-1]"
   ]
  },
  {
   "cell_type": "code",
   "execution_count": 159,
   "id": "0757478a",
   "metadata": {},
   "outputs": [
    {
     "data": {
      "text/plain": [
       "A    1\n",
       "C    3\n",
       "E    5\n",
       "G    7\n",
       "I    9\n",
       "dtype: int64"
      ]
     },
     "execution_count": 159,
     "metadata": {},
     "output_type": "execute_result"
    }
   ],
   "source": [
    "# Slice the entire series with step size 2\n",
    "ser.iloc[::2]"
   ]
  },
  {
   "cell_type": "markdown",
   "id": "1f3b7cbd",
   "metadata": {},
   "source": [
    "#### Exercise_07\n",
    "_Convert the Series object values created for exercise_04 back into the list of values_"
   ]
  },
  {
   "cell_type": "code",
   "execution_count": 204,
   "id": "a12b2afb",
   "metadata": {},
   "outputs": [
    {
     "name": "stdout",
     "output_type": "stream",
     "text": [
      "<class 'numpy.ndarray'>\n",
      "[1, 2, 3, 4, 5, 6, 7, 8, 9, 10]\n",
      "<class 'list'>\n"
     ]
    }
   ],
   "source": [
    "# check the data type first before converting\n",
    "print(type(ser.values))\n",
    "\n",
    "# convert\n",
    "list = ser.values.tolist()\n",
    "print(list)\n",
    "print(type(list))"
   ]
  },
  {
   "cell_type": "markdown",
   "id": "e9965729",
   "metadata": {},
   "source": [
    "#### Exercise_08\n",
    "_For the data given below, construct a series and add data = [500, 600, 700] to the existing series_\n",
    "- _data= ['25', '50', '100', '200', '300', '400']_"
   ]
  },
  {
   "cell_type": "code",
   "execution_count": 205,
   "id": "22da5bac",
   "metadata": {},
   "outputs": [
    {
     "name": "stdout",
     "output_type": "stream",
     "text": [
      "0     25\n",
      "1     50\n",
      "2    100\n",
      "3    200\n",
      "4    300\n",
      "5    400\n",
      "6    500\n",
      "7    600\n",
      "8    700\n",
      "dtype: object\n"
     ]
    }
   ],
   "source": [
    "data= ['25', '50', '100', '200', '300', '400']\n",
    "data_series = pd.Series(data, index= [0, 1, 2, 3, 4, 5])\n",
    "\n",
    "new_data = ['500', '600', '700']\n",
    "new_data_series = pd.Series(new_data, index= [6, 7, 8])\n",
    "\n",
    "updated_series = pd.concat([data_series, new_data_series])\n",
    "print(updated_series)"
   ]
  },
  {
   "cell_type": "markdown",
   "id": "d7a7cf20",
   "metadata": {},
   "source": [
    "#### Exercise_09\n",
    "_For the series created in exercise_08, get the subset of the series for the condition given below_\n",
    "- _*Condition*: Values greater than or equal to 100_"
   ]
  },
  {
   "cell_type": "code",
   "execution_count": null,
   "id": "996531b9",
   "metadata": {},
   "outputs": [
    {
     "name": "stdout",
     "output_type": "stream",
     "text": [
      "2    100\n",
      "3    200\n",
      "4    300\n",
      "5    400\n",
      "6    500\n",
      "7    600\n",
      "8    700\n",
      "dtype: int64\n"
     ]
    }
   ],
   "source": [
    "# Convert the string values into numeric type\n",
    "numeric_data = pd.to_numeric(updated_series)\n",
    "\n",
    "# filter\n",
    "condition = (numeric_data >= 100)\n",
    "\n",
    "# apply the filter\n",
    "sub_series = numeric_data[condition]\n",
    "print(sub_series)"
   ]
  },
  {
   "cell_type": "markdown",
   "id": "93a78cf7",
   "metadata": {},
   "source": [
    "#### Exercise_10\n",
    "_For the data given below, construct a pandas DataFrame object. Use labels data to set as the index of the dataframe. After creating the DataFrame, display a summary of the basic information._"
   ]
  },
  {
   "cell_type": "code",
   "execution_count": 163,
   "id": "19e87057",
   "metadata": {},
   "outputs": [
    {
     "data": {
      "text/html": [
       "<div>\n",
       "<style scoped>\n",
       "    .dataframe tbody tr th:only-of-type {\n",
       "        vertical-align: middle;\n",
       "    }\n",
       "\n",
       "    .dataframe tbody tr th {\n",
       "        vertical-align: top;\n",
       "    }\n",
       "\n",
       "    .dataframe thead th {\n",
       "        text-align: right;\n",
       "    }\n",
       "</style>\n",
       "<table border=\"1\" class=\"dataframe\">\n",
       "  <thead>\n",
       "    <tr style=\"text-align: right;\">\n",
       "      <th></th>\n",
       "      <th>name</th>\n",
       "      <th>score</th>\n",
       "      <th>attempts</th>\n",
       "      <th>qualify</th>\n",
       "    </tr>\n",
       "  </thead>\n",
       "  <tbody>\n",
       "    <tr>\n",
       "      <th>a</th>\n",
       "      <td>Arun</td>\n",
       "      <td>12.0</td>\n",
       "      <td>1</td>\n",
       "      <td>yes</td>\n",
       "    </tr>\n",
       "    <tr>\n",
       "      <th>b</th>\n",
       "      <td>Rama</td>\n",
       "      <td>10.0</td>\n",
       "      <td>3</td>\n",
       "      <td>no</td>\n",
       "    </tr>\n",
       "    <tr>\n",
       "      <th>c</th>\n",
       "      <td>Kantharaj</td>\n",
       "      <td>17.0</td>\n",
       "      <td>2</td>\n",
       "      <td>yes</td>\n",
       "    </tr>\n",
       "    <tr>\n",
       "      <th>d</th>\n",
       "      <td>James</td>\n",
       "      <td>NaN</td>\n",
       "      <td>3</td>\n",
       "      <td>no</td>\n",
       "    </tr>\n",
       "    <tr>\n",
       "      <th>e</th>\n",
       "      <td>Quagmire</td>\n",
       "      <td>9.0</td>\n",
       "      <td>2</td>\n",
       "      <td>no</td>\n",
       "    </tr>\n",
       "    <tr>\n",
       "      <th>f</th>\n",
       "      <td>George</td>\n",
       "      <td>30.0</td>\n",
       "      <td>3</td>\n",
       "      <td>yes</td>\n",
       "    </tr>\n",
       "    <tr>\n",
       "      <th>g</th>\n",
       "      <td>Emily</td>\n",
       "      <td>15.0</td>\n",
       "      <td>1</td>\n",
       "      <td>yes</td>\n",
       "    </tr>\n",
       "    <tr>\n",
       "      <th>h</th>\n",
       "      <td>Michael</td>\n",
       "      <td>NaN</td>\n",
       "      <td>1</td>\n",
       "      <td>no</td>\n",
       "    </tr>\n",
       "    <tr>\n",
       "      <th>i</th>\n",
       "      <td>Griffin</td>\n",
       "      <td>8.0</td>\n",
       "      <td>2</td>\n",
       "      <td>no</td>\n",
       "    </tr>\n",
       "    <tr>\n",
       "      <th>j</th>\n",
       "      <td>Stewie</td>\n",
       "      <td>19.0</td>\n",
       "      <td>1</td>\n",
       "      <td>yes</td>\n",
       "    </tr>\n",
       "  </tbody>\n",
       "</table>\n",
       "</div>"
      ],
      "text/plain": [
       "        name  score  attempts qualify\n",
       "a       Arun   12.0         1     yes\n",
       "b       Rama   10.0         3      no\n",
       "c  Kantharaj   17.0         2     yes\n",
       "d      James    NaN         3      no\n",
       "e   Quagmire    9.0         2      no\n",
       "f     George   30.0         3     yes\n",
       "g      Emily   15.0         1     yes\n",
       "h    Michael    NaN         1      no\n",
       "i    Griffin    8.0         2      no\n",
       "j     Stewie   19.0         1     yes"
      ]
     },
     "execution_count": 163,
     "metadata": {},
     "output_type": "execute_result"
    }
   ],
   "source": [
    "example_data = {\n",
    "    'name': ['Arun', 'Rama', 'Kantharaj', 'James', 'Quagmire', 'George', 'Emily', 'Michael', 'Griffin', 'Stewie'],\n",
    "    'score': [12, 10, 17, np.nan, 9, 30, 15, np.nan, 8, 19],\n",
    "    'attempts': [1, 3, 2, 3, 2, 3, 1, 1, 2, 1],\n",
    "    'qualify': ['yes', 'no', 'yes', 'no', 'no', 'yes', 'yes', 'no', 'no', 'yes']\n",
    "}\n",
    "\n",
    "labels = ['a', 'b', 'c', 'd', 'e', 'f', 'g', 'h', 'i', 'j']\n",
    "\n",
    "df = pd.DataFrame(example_data, index=labels)\n",
    "df"
   ]
  },
  {
   "cell_type": "code",
   "execution_count": 164,
   "id": "7eee1daa",
   "metadata": {},
   "outputs": [
    {
     "name": "stdout",
     "output_type": "stream",
     "text": [
      "<class 'pandas.core.frame.DataFrame'>\n",
      "Index: 10 entries, a to j\n",
      "Data columns (total 4 columns):\n",
      " #   Column    Non-Null Count  Dtype  \n",
      "---  ------    --------------  -----  \n",
      " 0   name      10 non-null     object \n",
      " 1   score     8 non-null      float64\n",
      " 2   attempts  10 non-null     int64  \n",
      " 3   qualify   10 non-null     object \n",
      "dtypes: float64(1), int64(1), object(2)\n",
      "memory usage: 400.0+ bytes\n"
     ]
    }
   ],
   "source": [
    "# summary\n",
    "df.info()"
   ]
  },
  {
   "cell_type": "markdown",
   "id": "dc2c0bbe",
   "metadata": {},
   "source": [
    "#### Exercise_11\n",
    "1. _Find the names of people who have scores greater than 12 for the data created in exercise_10_\n",
    "2. _Separate people with and without scores for the data created in exercise_10_"
   ]
  },
  {
   "cell_type": "code",
   "execution_count": 222,
   "id": "eacefa02",
   "metadata": {},
   "outputs": [
    {
     "data": {
      "text/plain": [
       "['Kantharaj', 'George', 'Emily', 'Stewie']"
      ]
     },
     "execution_count": 222,
     "metadata": {},
     "output_type": "execute_result"
    }
   ],
   "source": [
    "# people with scores > 12\n",
    "cond = (df['score'] > 12)\n",
    "names = df.loc[cond, 'name'].to_list()\n",
    "names"
   ]
  },
  {
   "cell_type": "code",
   "execution_count": 166,
   "id": "33065903",
   "metadata": {},
   "outputs": [
    {
     "name": "stdout",
     "output_type": "stream",
     "text": [
      "People with scores: ['Arun', 'Rama', 'Kantharaj', 'Quagmire', 'George', 'Emily', 'Griffin', 'Stewie']\n",
      "People without scores: ['James', 'Michael']\n"
     ]
    }
   ],
   "source": [
    "# people with and without any scores\n",
    "\n",
    "# with scores\n",
    "people_with_scores = df.loc[df['score'].notna(), 'name'].to_list()\n",
    "print('People with scores:', people_with_scores)\n",
    "\n",
    "# without scores\n",
    "people_without_scores = df.loc[df['score'].isna(), 'name'].to_list()\n",
    "print('People without scores:', people_without_scores)\n"
   ]
  },
  {
   "cell_type": "markdown",
   "id": "cfe558bd",
   "metadata": {},
   "source": [
    "#### Exercise_12\n",
    "_Find the participants who qualify the test and who didn't qualify the test for the data created in exercise_10_"
   ]
  },
  {
   "cell_type": "code",
   "execution_count": 167,
   "id": "3fe0f0a3",
   "metadata": {},
   "outputs": [
    {
     "name": "stdout",
     "output_type": "stream",
     "text": [
      "Qualified: ['Arun', 'Kantharaj', 'George', 'Emily', 'Stewie']\n",
      "Not_Qualified: ['Rama', 'James', 'Quagmire', 'Michael', 'Griffin']\n"
     ]
    }
   ],
   "source": [
    "# Qualified\n",
    "Qualified = df.loc[df['qualify'] == 'yes', 'name'].to_list()\n",
    "print('Qualified:', Qualified)\n",
    "\n",
    "# Not Qualified\n",
    "Not_Qualified = df.loc[df['qualify']== 'no', 'name'].to_list()\n",
    "print('Not_Qualified:', Not_Qualified)"
   ]
  },
  {
   "cell_type": "markdown",
   "id": "5cdb1b15",
   "metadata": {},
   "source": [
    "#### Exercise_13\n",
    "_For the data created in exercise_10, separate the columns without score and form a separate dataframe_"
   ]
  },
  {
   "cell_type": "code",
   "execution_count": 224,
   "id": "f8041e5d",
   "metadata": {},
   "outputs": [
    {
     "data": {
      "text/html": [
       "<div>\n",
       "<style scoped>\n",
       "    .dataframe tbody tr th:only-of-type {\n",
       "        vertical-align: middle;\n",
       "    }\n",
       "\n",
       "    .dataframe tbody tr th {\n",
       "        vertical-align: top;\n",
       "    }\n",
       "\n",
       "    .dataframe thead th {\n",
       "        text-align: right;\n",
       "    }\n",
       "</style>\n",
       "<table border=\"1\" class=\"dataframe\">\n",
       "  <thead>\n",
       "    <tr style=\"text-align: right;\">\n",
       "      <th></th>\n",
       "      <th>name</th>\n",
       "      <th>attempts</th>\n",
       "      <th>qualify</th>\n",
       "    </tr>\n",
       "  </thead>\n",
       "  <tbody>\n",
       "    <tr>\n",
       "      <th>a</th>\n",
       "      <td>Arun</td>\n",
       "      <td>1</td>\n",
       "      <td>yes</td>\n",
       "    </tr>\n",
       "    <tr>\n",
       "      <th>b</th>\n",
       "      <td>Rama</td>\n",
       "      <td>3</td>\n",
       "      <td>no</td>\n",
       "    </tr>\n",
       "    <tr>\n",
       "      <th>c</th>\n",
       "      <td>Kantharaj</td>\n",
       "      <td>2</td>\n",
       "      <td>yes</td>\n",
       "    </tr>\n",
       "    <tr>\n",
       "      <th>d</th>\n",
       "      <td>James</td>\n",
       "      <td>3</td>\n",
       "      <td>no</td>\n",
       "    </tr>\n",
       "    <tr>\n",
       "      <th>e</th>\n",
       "      <td>Quagmire</td>\n",
       "      <td>2</td>\n",
       "      <td>no</td>\n",
       "    </tr>\n",
       "    <tr>\n",
       "      <th>f</th>\n",
       "      <td>George</td>\n",
       "      <td>3</td>\n",
       "      <td>yes</td>\n",
       "    </tr>\n",
       "    <tr>\n",
       "      <th>g</th>\n",
       "      <td>Emily</td>\n",
       "      <td>1</td>\n",
       "      <td>yes</td>\n",
       "    </tr>\n",
       "    <tr>\n",
       "      <th>h</th>\n",
       "      <td>Michael</td>\n",
       "      <td>1</td>\n",
       "      <td>no</td>\n",
       "    </tr>\n",
       "    <tr>\n",
       "      <th>i</th>\n",
       "      <td>Griffin</td>\n",
       "      <td>2</td>\n",
       "      <td>no</td>\n",
       "    </tr>\n",
       "    <tr>\n",
       "      <th>j</th>\n",
       "      <td>Stewie</td>\n",
       "      <td>1</td>\n",
       "      <td>yes</td>\n",
       "    </tr>\n",
       "  </tbody>\n",
       "</table>\n",
       "</div>"
      ],
      "text/plain": [
       "        name  attempts qualify\n",
       "a       Arun         1     yes\n",
       "b       Rama         3      no\n",
       "c  Kantharaj         2     yes\n",
       "d      James         3      no\n",
       "e   Quagmire         2      no\n",
       "f     George         3     yes\n",
       "g      Emily         1     yes\n",
       "h    Michael         1      no\n",
       "i    Griffin         2      no\n",
       "j     Stewie         1     yes"
      ]
     },
     "execution_count": 224,
     "metadata": {},
     "output_type": "execute_result"
    }
   ],
   "source": [
    "list_columns = ['name', 'attempts', 'qualify']\n",
    "df2 = df[list_columns]\n",
    "df2"
   ]
  },
  {
   "cell_type": "markdown",
   "id": "22c811f4",
   "metadata": {},
   "source": [
    "#### Exercise_14\n",
    "_For the data created in exercise_10, find the number of participants who have only attempt_"
   ]
  },
  {
   "cell_type": "code",
   "execution_count": 225,
   "id": "7ecfe582",
   "metadata": {},
   "outputs": [
    {
     "name": "stdout",
     "output_type": "stream",
     "text": [
      "No.of people with 1 attempt: 4\n"
     ]
    }
   ],
   "source": [
    "single_attempt_condition = (df['attempts'] == 1)\n",
    "count = single_attempt_condition.sum()\n",
    "print('No.of people with 1 attempt:', count)\n"
   ]
  },
  {
   "cell_type": "markdown",
   "id": "c632fa8a",
   "metadata": {},
   "source": [
    "#### Exercise_15\n",
    "_For the data created in exercise_10, separate the column 'score' and find the top score_"
   ]
  },
  {
   "cell_type": "code",
   "execution_count": 200,
   "id": "b1b33033",
   "metadata": {},
   "outputs": [
    {
     "name": "stdout",
     "output_type": "stream",
     "text": [
      "Top score: 30.0\n"
     ]
    }
   ],
   "source": [
    "score = df['score']\n",
    "top_score = score.max()\n",
    "print('Top score:', top_score)"
   ]
  }
 ],
 "metadata": {
  "kernelspec": {
   "display_name": "Python 3",
   "language": "python",
   "name": "python3"
  },
  "language_info": {
   "codemirror_mode": {
    "name": "ipython",
    "version": 3
   },
   "file_extension": ".py",
   "mimetype": "text/x-python",
   "name": "python",
   "nbconvert_exporter": "python",
   "pygments_lexer": "ipython3",
   "version": "3.13.1"
  }
 },
 "nbformat": 4,
 "nbformat_minor": 5
}
